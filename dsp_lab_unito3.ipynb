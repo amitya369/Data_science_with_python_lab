{
  "nbformat": 4,
  "nbformat_minor": 0,
  "metadata": {
    "colab": {
      "provenance": [],
      "authorship_tag": "ABX9TyPGq8ylB2C0KTCs55qG8Crr",
      "include_colab_link": true
    },
    "kernelspec": {
      "name": "python3",
      "display_name": "Python 3"
    },
    "language_info": {
      "name": "python"
    }
  },
  "cells": [
    {
      "cell_type": "markdown",
      "metadata": {
        "id": "view-in-github",
        "colab_type": "text"
      },
      "source": [
        "<a href=\"https://colab.research.google.com/github/amitya369/Data_science_with_python_lab/blob/main/dsp_lab_unito3.ipynb\" target=\"_parent\"><img src=\"https://colab.research.google.com/assets/colab-badge.svg\" alt=\"Open In Colab\"/></a>"
      ]
    },
    {
      "cell_type": "code",
      "execution_count": 1,
      "metadata": {
        "id": "eUtic6PCu_ih"
      },
      "outputs": [],
      "source": [
        "class BankAccount:\n",
        "    def __init__(self, balance=0):\n",
        "        self.balance = balance\n",
        "\n",
        "    def deposit(self, amount):\n",
        "        self.balance += amount\n",
        "        return self.balance\n",
        "\n",
        "    def withdraw(self, amount):\n",
        "        if amount > self.balance:\n",
        "            return \"Insufficient funds\"\n",
        "        else:\n",
        "            self.balance -= amount\n",
        "            return self.balance\n",
        "\n",
        "    def check_balance(self):\n",
        "        return self.balance\n",
        "\n",
        "# AMIT KUMAR YADAV\n"
      ]
    },
    {
      "cell_type": "code",
      "source": [
        "class Person:\n",
        "    def __init__(self, name, age):\n",
        "        self.name = name\n",
        "        self.age = age\n",
        "\n",
        "    def get_info(self):\n",
        "        return f\"Name: {self.name}, Age: {self.age}\"\n",
        "\n",
        "class Student(Person):\n",
        "    def __init__(self, name, age, student_id):\n",
        "        super().__init__(name, age)\n",
        "        self.student_id = student_id\n",
        "\n",
        "    def get_student_info(self):\n",
        "        return f\"Name: {self.name}, Age: {self.age}, Student ID: {self.student_id}\"\n",
        "\n",
        "# AMIT KUMAR YADAV\n"
      ],
      "metadata": {
        "id": "WmVORm0Evqez"
      },
      "execution_count": 2,
      "outputs": []
    },
    {
      "cell_type": "code",
      "source": [
        "import numpy as np\n",
        "\n",
        "random_array = np.random.uniform(0, 1, size=(5,))\n",
        "print(random_array)\n",
        "\n",
        "# AMIT KUMAR YADAV\n"
      ],
      "metadata": {
        "colab": {
          "base_uri": "https://localhost:8080/"
        },
        "id": "IZJ7F8Ulxd1w",
        "outputId": "e71dee17-805e-401c-f29c-54d70fa855e8"
      },
      "execution_count": 3,
      "outputs": [
        {
          "output_type": "stream",
          "name": "stdout",
          "text": [
            "[0.32346774 0.22871456 0.55005389 0.99416938 0.03507775]\n"
          ]
        }
      ]
    },
    {
      "cell_type": "code",
      "source": [
        "import numpy as np\n",
        "\n",
        "random_array = np.random.rand(12)\n",
        "reshaped_array = random_array.reshape(3, 4)\n",
        "maximum_value = reshaped_array.max()\n",
        "minimum_value = reshaped_array.min()\n",
        "\n",
        "print(reshaped_array)\n",
        "print(\"Max:\", maximum_value)\n",
        "print(\"Min:\", minimum_value)\n",
        "\n",
        "# AMIT KUMAR YADAV\n"
      ],
      "metadata": {
        "colab": {
          "base_uri": "https://localhost:8080/"
        },
        "id": "M4mSmNcIxfTA",
        "outputId": "225f107d-b400-411b-8e26-13ece159892e"
      },
      "execution_count": 4,
      "outputs": [
        {
          "output_type": "stream",
          "name": "stdout",
          "text": [
            "[[0.04344996 0.32369599 0.75182524 0.74711325]\n",
            " [0.97984004 0.4850517  0.4726656  0.1276764 ]\n",
            " [0.00398526 0.11928327 0.47230594 0.67059695]]\n",
            "Max: 0.9798400376159647\n",
            "Min: 0.003985261878888924\n"
          ]
        }
      ]
    },
    {
      "cell_type": "code",
      "source": [
        "import numpy as np\n",
        "\n",
        "array1 = np.array([1, 2, 3])\n",
        "array2 = np.array([4, 5, 6])\n",
        "\n",
        "addition = array1 + array2\n",
        "subtraction = array1 - array2\n",
        "multiplication = array1 * array2\n",
        "division = array1 / array2\n",
        "\n",
        "print(\"Addition:\", addition)\n",
        "print(\"Subtraction:\", subtraction)\n",
        "print(\"Multiplication:\", multiplication)\n",
        "print(\"Division:\", division)\n",
        "\n",
        "# AMIT KUMAR YADAV\n"
      ],
      "metadata": {
        "colab": {
          "base_uri": "https://localhost:8080/"
        },
        "id": "xNOVsm5exhfn",
        "outputId": "c72bde23-29c3-4fc9-fef0-124313f104b6"
      },
      "execution_count": 5,
      "outputs": [
        {
          "output_type": "stream",
          "name": "stdout",
          "text": [
            "Addition: [5 7 9]\n",
            "Subtraction: [-3 -3 -3]\n",
            "Multiplication: [ 4 10 18]\n",
            "Division: [0.25 0.4  0.5 ]\n"
          ]
        }
      ]
    },
    {
      "cell_type": "code",
      "source": [
        "import numpy as np\n",
        "\n",
        "array = np.array([10, 20, 30, 40, 50])\n",
        "\n",
        "print(array[2])\n",
        "print(array[1:4])\n",
        "\n",
        "# AMIT KUMAR YADAV\n"
      ],
      "metadata": {
        "colab": {
          "base_uri": "https://localhost:8080/"
        },
        "id": "ypPsa0lNxjrc",
        "outputId": "0d1ad0c3-f824-4b11-82ff-33657e501965"
      },
      "execution_count": 6,
      "outputs": [
        {
          "output_type": "stream",
          "name": "stdout",
          "text": [
            "30\n",
            "[20 30 40]\n"
          ]
        }
      ]
    },
    {
      "cell_type": "code",
      "source": [
        "import numpy as np\n",
        "\n",
        "array = np.array([1, 2, 3])\n",
        "broadcasted_array = array + 5\n",
        "print(broadcasted_array)\n",
        "\n",
        "# AMIT KUMAR YADAV\n"
      ],
      "metadata": {
        "colab": {
          "base_uri": "https://localhost:8080/"
        },
        "id": "ykdCwm9pxlqQ",
        "outputId": "116770b6-43b0-4337-82f0-321a30f7b3b1"
      },
      "execution_count": 7,
      "outputs": [
        {
          "output_type": "stream",
          "name": "stdout",
          "text": [
            "[6 7 8]\n"
          ]
        }
      ]
    },
    {
      "cell_type": "code",
      "source": [
        "import numpy as np\n",
        "\n",
        "matrix = np.array([[1, 2, 3], [4, 5, 6], [7, 8, 9]])\n",
        "\n",
        "print(matrix[1, 2])\n",
        "print(matrix[:, 1])\n",
        "\n",
        "# AMIT KUMAR YADAV\n"
      ],
      "metadata": {
        "colab": {
          "base_uri": "https://localhost:8080/"
        },
        "id": "_6VkeeSHxn9l",
        "outputId": "67117d67-892a-43c3-d451-67d386a5b777"
      },
      "execution_count": 8,
      "outputs": [
        {
          "output_type": "stream",
          "name": "stdout",
          "text": [
            "6\n",
            "[2 5 8]\n"
          ]
        }
      ]
    },
    {
      "cell_type": "code",
      "source": [],
      "metadata": {
        "id": "XdUNnPfjxpjZ"
      },
      "execution_count": null,
      "outputs": []
    }
  ]
}
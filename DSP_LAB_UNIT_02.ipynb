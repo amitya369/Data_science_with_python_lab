{
  "nbformat": 4,
  "nbformat_minor": 0,
  "metadata": {
    "colab": {
      "provenance": [],
      "authorship_tag": "ABX9TyPbqk8bGlKs3ZKR94sRva5v",
      "include_colab_link": true
    },
    "kernelspec": {
      "name": "python3",
      "display_name": "Python 3"
    },
    "language_info": {
      "name": "python"
    }
  },
  "cells": [
    {
      "cell_type": "markdown",
      "metadata": {
        "id": "view-in-github",
        "colab_type": "text"
      },
      "source": [
        "<a href=\"https://colab.research.google.com/github/amitya369/Data_science_with_python_lab/blob/main/DSP_LAB_UNIT_02.ipynb\" target=\"_parent\"><img src=\"https://colab.research.google.com/assets/colab-badge.svg\" alt=\"Open In Colab\"/></a>"
      ]
    },
    {
      "cell_type": "code",
      "source": [
        "my_list = [1, 2, 3, 4, 5]\n",
        "my_list.append(6)\n",
        "print(\"List after adding an element:\", my_list)\n",
        "my_list.remove(3)\n",
        "print(\"List after removing an element:\", my_list)\n",
        "list_length = len(my_list)\n",
        "print(\"Length of the list:\", list_length)\n",
        "\n",
        "# AMIT KUMAR YADAV"
      ],
      "metadata": {
        "colab": {
          "base_uri": "https://localhost:8080/"
        },
        "id": "h3P-en3ikRXw",
        "outputId": "899c96b2-98aa-495e-d648-f3e84c55d308"
      },
      "execution_count": 1,
      "outputs": [
        {
          "output_type": "stream",
          "name": "stdout",
          "text": [
            "List after adding an element: [1, 2, 3, 4, 5, 6]\n",
            "List after removing an element: [1, 2, 4, 5, 6]\n",
            "Length of the list: 5\n"
          ]
        }
      ]
    },
    {
      "cell_type": "code",
      "source": [
        "\n",
        "my_list = [1, 2, 3, 4, 5]\n",
        "for element in my_list:\n",
        "  print(element)\n",
        "my_tuple = (10, 20, 30, 40, 50)\n",
        "print(\"First element:\", my_tuple[0])\n",
        "print(\"Second element:\", my_tuple[1])\n",
        "\n",
        "for element in my_tuple:\n",
        "  print(element)\n",
        "  # AMIT KUMAR YADAV"
      ],
      "metadata": {
        "colab": {
          "base_uri": "https://localhost:8080/"
        },
        "id": "EK_y-Aqikb17",
        "outputId": "2eb9000f-bdeb-4774-a5ea-057987fa92eb"
      },
      "execution_count": 3,
      "outputs": [
        {
          "output_type": "stream",
          "name": "stdout",
          "text": [
            "1\n",
            "2\n",
            "3\n",
            "4\n",
            "5\n",
            "First element: 10\n",
            "Second element: 20\n",
            "10\n",
            "20\n",
            "30\n",
            "40\n",
            "50\n"
          ]
        }
      ]
    },
    {
      "cell_type": "code",
      "source": [
        "\n",
        "my_tuple = (10, 20, 30, 40, 50)\n",
        "print(\"First element:\", my_tuple[0])\n",
        "print(\"Second element:\", my_tuple[1])\n",
        "for element in my_tuple:\n",
        "  print(element)\n",
        "try:\n",
        "  my_tuple[0] = 100\n",
        "except TypeError as e:\n",
        "  print(\"Error:\", e)\n",
        "\n",
        "print(\"Original tuple:\", my_tuple)\n",
        "new_tuple = my_tuple + (60,)\n",
        "print(\"New tuple:\", new_tuple)\n",
        "print(\"Original tuple remains unchanged:\", my_tuple)\n",
        "# AMIT KUMAR YADAV"
      ],
      "metadata": {
        "colab": {
          "base_uri": "https://localhost:8080/"
        },
        "id": "piGbkEKAke9i",
        "outputId": "56d20097-1e20-4405-8385-9eca933b2c07"
      },
      "execution_count": 4,
      "outputs": [
        {
          "output_type": "stream",
          "name": "stdout",
          "text": [
            "First element: 10\n",
            "Second element: 20\n",
            "10\n",
            "20\n",
            "30\n",
            "40\n",
            "50\n",
            "Error: 'tuple' object does not support item assignment\n",
            "Original tuple: (10, 20, 30, 40, 50)\n",
            "New tuple: (10, 20, 30, 40, 50, 60)\n",
            "Original tuple remains unchanged: (10, 20, 30, 40, 50)\n"
          ]
        }
      ]
    },
    {
      "cell_type": "code",
      "source": [
        "\n",
        "def matrix_addition(matrix1, matrix2):\n",
        "\n",
        "  if len(matrix1) != len(matrix2) or len(matrix1[0]) != len(matrix2[0]):\n",
        "    return None\n",
        "  result_matrix = []\n",
        "  for i in range(len(matrix1)):\n",
        "    row = []\n",
        "    for j in range(len(matrix1[0])):\n",
        "      row.append(matrix1[i][j] + matrix2[i][j])\n",
        "    result_matrix.append(row)\n",
        "\n",
        "  return result_matrix\n",
        "\n",
        "matrix_a = [[1, 2, 3],\n",
        "            [4, 5, 6],\n",
        "            [7, 8, 9]]\n",
        "\n",
        "matrix_b = [[9, 8, 7],\n",
        "            [6, 5, 4],\n",
        "            [3, 2, 1]]\n",
        "sum_matrix = matrix_addition(matrix_a, matrix_b)\n",
        "if sum_matrix:\n",
        "  print(\"Sum of matrices:\")\n",
        "  for row in sum_matrix:\n",
        "    print(row)\n",
        "else:\n",
        "  print(\"Matrices cannot be added due to incompatible dimensions.\")\n",
        "  # AMIT KUMAR YADAV"
      ],
      "metadata": {
        "colab": {
          "base_uri": "https://localhost:8080/"
        },
        "id": "igV0CGB-khES",
        "outputId": "fbe816a1-5459-44e5-ef8e-28b91c2549c8"
      },
      "execution_count": 5,
      "outputs": [
        {
          "output_type": "stream",
          "name": "stdout",
          "text": [
            "Sum of matrices:\n",
            "[10, 10, 10]\n",
            "[10, 10, 10]\n",
            "[10, 10, 10]\n"
          ]
        }
      ]
    },
    {
      "cell_type": "code",
      "source": [
        "\n",
        "my_list = [1, 2, 3, 4, 5]\n",
        "\n",
        "i = 0\n",
        "while i < len(my_list):\n",
        "  print(my_list[i])\n",
        "  i += 1\n",
        "  # AMIT KUMAR YADAV"
      ],
      "metadata": {
        "colab": {
          "base_uri": "https://localhost:8080/"
        },
        "id": "DA1K3rRukqAW",
        "outputId": "6f7aa385-115d-47ac-cef1-94315d4cf800"
      },
      "execution_count": 6,
      "outputs": [
        {
          "output_type": "stream",
          "name": "stdout",
          "text": [
            "1\n",
            "2\n",
            "3\n",
            "4\n",
            "5\n"
          ]
        }
      ]
    },
    {
      "cell_type": "code",
      "source": [
        "import copy\n",
        "original_list = [[1, 2, 3], [4, 5, 6]]\n",
        "shallow_copy = copy.copy(original_list)\n",
        "\n",
        "# Deep copy\n",
        "deep_copy = copy.deepcopy(original_list)\n",
        "\n",
        "original_list[0][0] = 99\n",
        "\n",
        "# Print the lists\n",
        "print(\"Original list:\", original_list)\n",
        "print(\"Shallow copy:\", shallow_copy)\n",
        "print(\"Deep copy:\", deep_copy)\n",
        "# AMIT KUMAR YADAV"
      ],
      "metadata": {
        "colab": {
          "base_uri": "https://localhost:8080/"
        },
        "id": "iMpF7ajyks--",
        "outputId": "ea7df333-0e6e-4159-985f-9d626760aba5"
      },
      "execution_count": 7,
      "outputs": [
        {
          "output_type": "stream",
          "name": "stdout",
          "text": [
            "Original list: [[99, 2, 3], [4, 5, 6]]\n",
            "Shallow copy: [[99, 2, 3], [4, 5, 6]]\n",
            "Deep copy: [[1, 2, 3], [4, 5, 6]]\n"
          ]
        }
      ]
    },
    {
      "cell_type": "code",
      "source": [
        "my_dict = {'apple': 1, 'banana': 2, 'orange': 3}\n",
        "my_dict['grape'] = 4\n",
        "print(\"Dictionary after adding an element:\", my_dict)\n",
        "\n",
        "# Remove an element\n",
        "del my_dict['banana']\n",
        "print(\"Dictionary after removing an element:\", my_dict)\n",
        "\n",
        "# Update an element\n",
        "my_dict['apple'] = 5\n",
        "print(\"Dictionary after updating an element:\", my_dict)\n",
        "# AMIT KUMAR YADAV"
      ],
      "metadata": {
        "colab": {
          "base_uri": "https://localhost:8080/"
        },
        "id": "Um_fSwHHkvqU",
        "outputId": "0b0529d2-a6bd-4f24-81b2-8db57c3256ad"
      },
      "execution_count": 8,
      "outputs": [
        {
          "output_type": "stream",
          "name": "stdout",
          "text": [
            "Dictionary after adding an element: {'apple': 1, 'banana': 2, 'orange': 3, 'grape': 4}\n",
            "Dictionary after removing an element: {'apple': 1, 'orange': 3, 'grape': 4}\n",
            "Dictionary after updating an element: {'apple': 5, 'orange': 3, 'grape': 4}\n"
          ]
        }
      ]
    },
    {
      "cell_type": "code",
      "source": [
        "set1 = {1, 2, 3, 4, 5}\n",
        "set2 = {4, 5, 6, 7, 8}\n",
        "union_set = set1.union(set2)\n",
        "print(\"Union of set1 and set2:\", union_set)\n",
        "\n",
        "intersection_set = set1.intersection(set2)\n",
        "print(\"Intersection of set1 and set2:\", intersection_set)\n",
        "difference_set = set1.difference(set2)\n",
        "print(\"Difference between set1 and set2:\", difference_set)\n",
        "\n",
        "symmetric_difference_set = set1.symmetric_difference(set2)\n",
        "print(\"Symmetric difference between set1 and set2:\", symmetric_difference_set)\n",
        "# AMIT KUMAR YADAV"
      ],
      "metadata": {
        "colab": {
          "base_uri": "https://localhost:8080/"
        },
        "id": "rkKHqIMskzwu",
        "outputId": "24b5dbf4-8647-44b5-c871-577bc5c60436"
      },
      "execution_count": 9,
      "outputs": [
        {
          "output_type": "stream",
          "name": "stdout",
          "text": [
            "Union of set1 and set2: {1, 2, 3, 4, 5, 6, 7, 8}\n",
            "Intersection of set1 and set2: {4, 5}\n",
            "Difference between set1 and set2: {1, 2, 3}\n",
            "Symmetric difference between set1 and set2: {1, 2, 3, 6, 7, 8}\n"
          ]
        }
      ]
    },
    {
      "cell_type": "code",
      "source": [
        "def factorial(n):\n",
        "  if n == 0:\n",
        "    return 1\n",
        "  else:\n",
        "    return n * factorial(n - 1)\n",
        "number = 5\n",
        "result = factorial(number)\n",
        "print(f\"The factorial of {number} is {result}\")\n",
        "# AMIT KUMAR YADAV"
      ],
      "metadata": {
        "colab": {
          "base_uri": "https://localhost:8080/"
        },
        "id": "TK4wgBs4k3N4",
        "outputId": "bf56cd61-1afe-4e69-dfec-5b84b01f9e92"
      },
      "execution_count": 10,
      "outputs": [
        {
          "output_type": "stream",
          "name": "stdout",
          "text": [
            "The factorial of 5 is 120\n"
          ]
        }
      ]
    },
    {
      "cell_type": "code",
      "source": [
        "def merge_sort(arr):\n",
        "  if len(arr) <= 1:\n",
        "    return arr\n",
        "\n",
        "  mid = len(arr) // 2\n",
        "  left_half = arr[:mid]\n",
        "  right_half = arr[mid:]\n",
        "\n",
        "  left_half = merge_sort(left_half)\n",
        "  right_half = merge_sort(right_half)\n",
        "\n",
        "  return merge(left_half, right_half)\n",
        "def merge(left, right):\n",
        "\n",
        "  merged_list = []\n",
        "  i = j = 0\n",
        "\n",
        "  while i < len(left) and j < len(right):\n",
        "    if left[i] <= right[j]:\n",
        "      merged_list.append(left[i])\n",
        "      i += 1\n",
        "    else:\n",
        "      merged_list.append(right[j])\n",
        "      j += 1\n",
        "\n",
        "  merged_list.extend(left[i:])\n",
        "  merged_list.extend(right[j:])\n",
        "\n",
        "  return merged_list\n",
        "\n",
        "\n",
        "# Example usage\n",
        "my_list = [38, 27, 43, 3, 9, 82, 10]\n",
        "sorted_list = merge_sort(my_list)\n",
        "print(\"Sorted list:\", sorted_list)\n",
        "# AMIT KUMAR YADAV"
      ],
      "metadata": {
        "colab": {
          "base_uri": "https://localhost:8080/"
        },
        "id": "0LM4OZPak6D4",
        "outputId": "cdbc2e1b-d4cf-454b-8384-2d0e96f6ea99"
      },
      "execution_count": 11,
      "outputs": [
        {
          "output_type": "stream",
          "name": "stdout",
          "text": [
            "Sorted list: [3, 9, 10, 27, 38, 43, 82]\n"
          ]
        }
      ]
    },
    {
      "cell_type": "code",
      "source": [
        "def tower_of_hanoi(n, source, destination, auxiliary):\n",
        "  if n == 1:\n",
        "    print(f\"Move disk 1 from {source} to {destination}\")\n",
        "  else:\n",
        "    tower_of_hanoi(n - 1, source, auxiliary, destination)\n",
        "    print(f\"Move disk {n} from {source} to {destination}\")\n",
        "    tower_of_hanoi(n - 1, auxiliary, destination, source)\n",
        "\n",
        "\n",
        "# Example usage\n",
        "num_disks = 3\n",
        "tower_of_hanoi(num_disks, 'A', 'C', 'B')\n",
        "# AMIT KUMAR YADAV"
      ],
      "metadata": {
        "colab": {
          "base_uri": "https://localhost:8080/"
        },
        "id": "rpkpqEqAk9Y5",
        "outputId": "3b8650e8-4cdb-47b8-b618-4d15c134dcd2"
      },
      "execution_count": 12,
      "outputs": [
        {
          "output_type": "stream",
          "name": "stdout",
          "text": [
            "Move disk 1 from A to C\n",
            "Move disk 2 from A to B\n",
            "Move disk 1 from C to B\n",
            "Move disk 3 from A to C\n",
            "Move disk 1 from B to A\n",
            "Move disk 2 from B to C\n",
            "Move disk 1 from A to C\n"
          ]
        }
      ]
    },
    {
      "cell_type": "code",
      "source": [],
      "metadata": {
        "id": "Fenae8BrmjGI"
      },
      "execution_count": null,
      "outputs": []
    }
  ]
}
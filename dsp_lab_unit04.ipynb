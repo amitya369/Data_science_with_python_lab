{
  "nbformat": 4,
  "nbformat_minor": 0,
  "metadata": {
    "colab": {
      "provenance": [],
      "authorship_tag": "ABX9TyOQYGbmjjxQyIjeF20Q4GVQ",
      "include_colab_link": true
    },
    "kernelspec": {
      "name": "python3",
      "display_name": "Python 3"
    },
    "language_info": {
      "name": "python"
    }
  },
  "cells": [
    {
      "cell_type": "markdown",
      "metadata": {
        "id": "view-in-github",
        "colab_type": "text"
      },
      "source": [
        "<a href=\"https://colab.research.google.com/github/amitya369/Data_science_with_python_lab/blob/main/dsp_lab_unit04.ipynb\" target=\"_parent\"><img src=\"https://colab.research.google.com/assets/colab-badge.svg\" alt=\"Open In Colab\"/></a>"
      ]
    },
    {
      "cell_type": "code",
      "execution_count": 1,
      "metadata": {
        "colab": {
          "base_uri": "https://localhost:8080/"
        },
        "id": "jE_vfSjssduy",
        "outputId": "b4e9b389-1e5b-4f0c-9884-3c85001c7c50"
      },
      "outputs": [
        {
          "output_type": "stream",
          "name": "stdout",
          "text": [
            "Series from list:\n",
            " 0    10\n",
            "1    20\n",
            "2    30\n",
            "3    40\n",
            "dtype: int64\n",
            "\n",
            "Series from array:\n",
            " 0    50\n",
            "1    60\n",
            "2    70\n",
            "3    80\n",
            "dtype: int64\n",
            "\n",
            "Series from dictionary:\n",
            " a    100\n",
            "b    200\n",
            "c    300\n",
            "dtype: int64\n"
          ]
        }
      ],
      "source": [
        "import pandas as pd\n",
        "import numpy as np\n",
        "\n",
        "my_list = [10, 20, 30, 40]\n",
        "series_from_list = pd.Series(my_list)\n",
        "print(\"Series from list:\\n\", series_from_list)\n",
        "\n",
        "my_array = np.array([50, 60, 70, 80])\n",
        "series_from_array = pd.Series(my_array)\n",
        "print(\"\\nSeries from array:\\n\", series_from_array)\n",
        "\n",
        "my_dict = {'a': 100, 'b': 200, 'c': 300}\n",
        "series_from_dict = pd.Series(my_dict)\n",
        "print(\"\\nSeries from dictionary:\\n\", series_from_dict)\n",
        "\n",
        "# AMIT KUMAR YADAV\n"
      ]
    },
    {
      "cell_type": "code",
      "source": [
        "import pandas as pd\n",
        "import numpy as np\n",
        "\n",
        "series = pd.Series([1, 2, 3, 4])\n",
        "array = np.array([1, 2, 3, 4])\n",
        "\n",
        "print(\"Pandas Series:\\n\", series)\n",
        "print(\"\\nNumPy Array:\\n\", array)\n",
        "\n",
        "print(\"\\nSeries index:\", series.index)\n",
        "print(\"Array shape:\", array.shape)\n",
        "\n",
        "# AMIT KUMAR YADAV\n"
      ],
      "metadata": {
        "colab": {
          "base_uri": "https://localhost:8080/"
        },
        "id": "XkScPmBtttrt",
        "outputId": "fc4108ca-c3cd-41b7-f647-89492ef9d5ad"
      },
      "execution_count": 3,
      "outputs": [
        {
          "output_type": "stream",
          "name": "stdout",
          "text": [
            "Pandas Series:\n",
            " 0    1\n",
            "1    2\n",
            "2    3\n",
            "3    4\n",
            "dtype: int64\n",
            "\n",
            "NumPy Array:\n",
            " [1 2 3 4]\n",
            "\n",
            "Series index: RangeIndex(start=0, stop=4, step=1)\n",
            "Array shape: (4,)\n"
          ]
        }
      ]
    },
    {
      "cell_type": "code",
      "source": [
        "import pandas as pd\n",
        "\n",
        "series = pd.Series([10, 20, 30, 40], index=['a', 'b', 'c', 'd'])\n",
        "print(\"Series:\\n\", series)\n",
        "\n",
        "print(\"\\nValue for index 'b':\", series['b'])\n",
        "\n",
        "# AMIT KUMAR YADAV\n"
      ],
      "metadata": {
        "colab": {
          "base_uri": "https://localhost:8080/"
        },
        "id": "WoW6_PCDtxiY",
        "outputId": "5d9e3876-b91e-442f-8cbc-7486ae3542cf"
      },
      "execution_count": 4,
      "outputs": [
        {
          "output_type": "stream",
          "name": "stdout",
          "text": [
            "Series:\n",
            " a    10\n",
            "b    20\n",
            "c    30\n",
            "d    40\n",
            "dtype: int64\n",
            "\n",
            "Value for index 'b': 20\n"
          ]
        }
      ]
    },
    {
      "cell_type": "code",
      "source": [
        "import pandas as pd\n",
        "\n",
        "data = {\n",
        "    'Name': ['John', 'Paul', 'George'],\n",
        "    'Age': [28, 22, 35],\n",
        "    'City': ['New York', 'London', 'Berlin']\n",
        "}\n",
        "df = pd.DataFrame(data)\n",
        "\n",
        "print(\"Names:\\n\", df['Name'])\n",
        "\n",
        "print(\"\\nNames and Ages:\\n\", df[['Name', 'Age']])\n",
        "\n",
        "print(\"\\nFirst row:\\n\", df.iloc[0])\n",
        "\n",
        "# AMIT KUMAR YADAV\n"
      ],
      "metadata": {
        "colab": {
          "base_uri": "https://localhost:8080/"
        },
        "id": "KJtgtMmktyPI",
        "outputId": "cee5f767-447f-498b-9cfa-30ec3ace490a"
      },
      "execution_count": 5,
      "outputs": [
        {
          "output_type": "stream",
          "name": "stdout",
          "text": [
            "Names:\n",
            " 0      John\n",
            "1      Paul\n",
            "2    George\n",
            "Name: Name, dtype: object\n",
            "\n",
            "Names and Ages:\n",
            "      Name  Age\n",
            "0    John   28\n",
            "1    Paul   22\n",
            "2  George   35\n",
            "\n",
            "First row:\n",
            " Name        John\n",
            "Age           28\n",
            "City    New York\n",
            "Name: 0, dtype: object\n"
          ]
        }
      ]
    },
    {
      "cell_type": "code",
      "source": [
        "import pandas as pd\n",
        "\n",
        "data = {'A': [1, 2, 3], 'B': [4, 5, 6]}\n",
        "df = pd.DataFrame(data)\n",
        "\n",
        "df['C'] = [7, 8, 9]\n",
        "print(\"DataFrame with new column:\\n\", df)\n",
        "\n",
        "df = df.drop('B', axis=1)\n",
        "print(\"\\nDataFrame after removing column B:\\n\", df)\n",
        "\n",
        "# AMIT KUMAR YADAV\n"
      ],
      "metadata": {
        "colab": {
          "base_uri": "https://localhost:8080/"
        },
        "id": "2tbvvTVst3FR",
        "outputId": "5d18e94e-b89b-420e-c76b-23e85045037a"
      },
      "execution_count": 6,
      "outputs": [
        {
          "output_type": "stream",
          "name": "stdout",
          "text": [
            "DataFrame with new column:\n",
            "    A  B  C\n",
            "0  1  4  7\n",
            "1  2  5  8\n",
            "2  3  6  9\n",
            "\n",
            "DataFrame after removing column B:\n",
            "    A  C\n",
            "0  1  7\n",
            "1  2  8\n",
            "2  3  9\n"
          ]
        }
      ]
    },
    {
      "cell_type": "code",
      "source": [
        "import pandas as pd\n",
        "\n",
        "data = {'Name': ['Alice', 'Bob', 'Charlie'], 'Age': [25, 30, 35], 'Score': [90, 85, 88]}\n",
        "df = pd.DataFrame(data)\n",
        "\n",
        "print(\"Subset of rows and columns:\\n\", df.loc[1:2, ['Name', 'Score']])\n",
        "\n",
        "# AMIT KUMAR YADAV\n"
      ],
      "metadata": {
        "colab": {
          "base_uri": "https://localhost:8080/"
        },
        "id": "Ng2CB2S-t3mF",
        "outputId": "6a25ccec-f7eb-47b8-ab75-871fc3f7bf16"
      },
      "execution_count": 7,
      "outputs": [
        {
          "output_type": "stream",
          "name": "stdout",
          "text": [
            "Subset of rows and columns:\n",
            "       Name  Score\n",
            "1      Bob     85\n",
            "2  Charlie     88\n"
          ]
        }
      ]
    },
    {
      "cell_type": "code",
      "source": [
        "import pandas as pd\n",
        "\n",
        "data = {'Name': ['Alice', 'Bob', 'Charlie'], 'Age': [25, 30, 35], 'Score': [90, 85, 88]}\n",
        "df = pd.DataFrame(data)\n",
        "\n",
        "filtered_df = df[df['Age'] > 28]\n",
        "print(\"Filtered DataFrame:\\n\", filtered_df)\n",
        "\n",
        "# AMIT KUMAR YADAV\n"
      ],
      "metadata": {
        "colab": {
          "base_uri": "https://localhost:8080/"
        },
        "id": "HpNZwHY3t5Bw",
        "outputId": "68d6de7d-3e06-4531-bffb-fc1366f30dae"
      },
      "execution_count": 8,
      "outputs": [
        {
          "output_type": "stream",
          "name": "stdout",
          "text": [
            "Filtered DataFrame:\n",
            "       Name  Age  Score\n",
            "1      Bob   30     85\n",
            "2  Charlie   35     88\n"
          ]
        }
      ]
    },
    {
      "cell_type": "code",
      "source": [
        "import pandas as pd\n",
        "\n",
        "arrays = [['one', 'one', 'two', 'two'], ['a', 'b', 'a', 'b']]\n",
        "index = pd.MultiIndex.from_arrays(arrays, names=('first', 'second'))\n",
        "df = pd.DataFrame({'Value': [1, 2, 3, 4]}, index=index)\n",
        "\n",
        "print(\"Multi-index DataFrame:\\n\", df)\n",
        "\n",
        "print(\"\\nValue from ('one', 'a'):\", df.loc[('one', 'a')])\n",
        "\n",
        "# AMIT KUMAR YADAV\n"
      ],
      "metadata": {
        "colab": {
          "base_uri": "https://localhost:8080/"
        },
        "id": "Q-NF8sM9t8SC",
        "outputId": "7c94f9c3-776d-4fbf-8f96-0b62492d93a4"
      },
      "execution_count": 9,
      "outputs": [
        {
          "output_type": "stream",
          "name": "stdout",
          "text": [
            "Multi-index DataFrame:\n",
            "               Value\n",
            "first second       \n",
            "one   a           1\n",
            "      b           2\n",
            "two   a           3\n",
            "      b           4\n",
            "\n",
            "Value from ('one', 'a'): Value    1\n",
            "Name: (one, a), dtype: int64\n"
          ]
        }
      ]
    },
    {
      "cell_type": "code",
      "source": [
        "import pandas as pd\n",
        "import numpy as np\n",
        "\n",
        "data = {'A': [1, 2, np.nan], 'B': [5, np.nan, 7]}\n",
        "df = pd.DataFrame(data)\n",
        "\n",
        "df_filled = df.fillna(df.mean())\n",
        "print(\"DataFrame with missing values filled:\\n\", df_filled)\n",
        "\n",
        "# AMIT KUMAR YADAV\n"
      ],
      "metadata": {
        "colab": {
          "base_uri": "https://localhost:8080/"
        },
        "id": "w_nuK_opt-P9",
        "outputId": "582afbbf-0641-44ba-e285-6aa94d286799"
      },
      "execution_count": 10,
      "outputs": [
        {
          "output_type": "stream",
          "name": "stdout",
          "text": [
            "DataFrame with missing values filled:\n",
            "      A    B\n",
            "0  1.0  5.0\n",
            "1  2.0  6.0\n",
            "2  1.5  7.0\n"
          ]
        }
      ]
    },
    {
      "cell_type": "code",
      "source": [
        "import pandas as pd\n",
        "\n",
        "data = {'Category': ['A', 'A', 'B', 'B'], 'Values': [10, 20, 15, 25]}\n",
        "df = pd.DataFrame(data)\n",
        "\n",
        "grouped = df.groupby('Category').agg({'Values': ['sum', 'mean']})\n",
        "print(\"Grouped data with sum and mean:\\n\", grouped)\n",
        "\n",
        "# AMIT KUMAR YADAV\n"
      ],
      "metadata": {
        "colab": {
          "base_uri": "https://localhost:8080/"
        },
        "id": "UMgksYaruAFN",
        "outputId": "f93a1f6b-980e-4333-e90f-c152d3753dc4"
      },
      "execution_count": 11,
      "outputs": [
        {
          "output_type": "stream",
          "name": "stdout",
          "text": [
            "Grouped data with sum and mean:\n",
            "          Values      \n",
            "            sum  mean\n",
            "Category             \n",
            "A            30  15.0\n",
            "B            40  20.0\n"
          ]
        }
      ]
    },
    {
      "cell_type": "code",
      "source": [
        "import pandas as pd\n",
        "\n",
        "df1 = pd.DataFrame({'Key': ['A', 'B', 'C'], 'Value1': [1, 2, 3]})\n",
        "df2 = pd.DataFrame({'Key': ['A', 'B', 'D'], 'Value2': [4, 5, 6]})\n",
        "\n",
        "merged_df = pd.merge(df1, df2, on='Key', how='outer')\n",
        "print(\"Merged DataFrame:\\n\", merged_df)\n",
        "\n",
        "# AMIT KUMAR YADAV\n"
      ],
      "metadata": {
        "colab": {
          "base_uri": "https://localhost:8080/"
        },
        "id": "eZSH9yKLuBra",
        "outputId": "d9719f7b-3fbc-4306-a540-8e42831c62f9"
      },
      "execution_count": 12,
      "outputs": [
        {
          "output_type": "stream",
          "name": "stdout",
          "text": [
            "Merged DataFrame:\n",
            "   Key  Value1  Value2\n",
            "0   A     1.0     4.0\n",
            "1   B     2.0     5.0\n",
            "2   C     3.0     NaN\n",
            "3   D     NaN     6.0\n"
          ]
        }
      ]
    },
    {
      "cell_type": "code",
      "source": [
        "import pandas as pd\n",
        "\n",
        "data = {'Name': ['Alice', 'Bob', 'Charlie', 'Alice'], 'Age': [25, 30, 35, 25]}\n",
        "df = pd.DataFrame(data)\n",
        "\n",
        "unique_names = df['Name'].unique()\n",
        "print(\"Unique names:\", unique_names)\n",
        "\n",
        "# AMIT KUMAR YADAV\n"
      ],
      "metadata": {
        "colab": {
          "base_uri": "https://localhost:8080/"
        },
        "id": "7GxMWKpIuF9R",
        "outputId": "dc00b674-752a-418e-f7b9-c6464f4d9b92"
      },
      "execution_count": 13,
      "outputs": [
        {
          "output_type": "stream",
          "name": "stdout",
          "text": [
            "Unique names: ['Alice' 'Bob' 'Charlie']\n"
          ]
        }
      ]
    },
    {
      "cell_type": "code",
      "source": [
        "import pandas as pd\n",
        "\n",
        "data = {'Numbers': [10, 20, 30]}\n",
        "df = pd.DataFrame(data)\n",
        "\n",
        "df['Doubled'] = df['Numbers'].apply(lambda x: x * 2)\n",
        "print(\"DataFrame with doubled numbers:\\n\", df)\n",
        "\n",
        "# AMIT KUMAR YADAV\n"
      ],
      "metadata": {
        "colab": {
          "base_uri": "https://localhost:8080/"
        },
        "id": "DIVIVAM2uIIy",
        "outputId": "f2923f2f-a247-4495-e5f8-9e60f37c041c"
      },
      "execution_count": 14,
      "outputs": [
        {
          "output_type": "stream",
          "name": "stdout",
          "text": [
            "DataFrame with doubled numbers:\n",
            "    Numbers  Doubled\n",
            "0       10       20\n",
            "1       20       40\n",
            "2       30       60\n"
          ]
        }
      ]
    },
    {
      "cell_type": "code",
      "source": [
        "import pandas as pd\n",
        "\n",
        "data = {'Name': ['Alice', 'Bob', 'Charlie'], 'Age': [25, 30, 35]}\n",
        "df = pd.DataFrame(data)\n",
        "\n",
        "df_sorted = df.sort_values(by='Age', ascending=False)\n",
        "print(\"Sorted DataFrame by Age:\\n\", df_sorted)\n",
        "\n",
        "# AMIT KUMAR YADAV\n"
      ],
      "metadata": {
        "colab": {
          "base_uri": "https://localhost:8080/"
        },
        "id": "ycTW1BzuuKao",
        "outputId": "e588ccc3-93db-42ee-d842-ed95bf74e0ed"
      },
      "execution_count": 15,
      "outputs": [
        {
          "output_type": "stream",
          "name": "stdout",
          "text": [
            "Sorted DataFrame by Age:\n",
            "       Name  Age\n",
            "2  Charlie   35\n",
            "1      Bob   30\n",
            "0    Alice   25\n"
          ]
        }
      ]
    },
    {
      "cell_type": "code",
      "source": [
        "import pandas as pd\n",
        "\n",
        "data = {'A': [1, None, 3], 'B': [None, 5, 6]}\n",
        "df = pd.DataFrame(data)\n",
        "\n",
        "null_values = df.isnull()\n",
        "print(\"Null values:\\n\", null_values)\n",
        "\n",
        "# AMIT KUMAR YADAV\n"
      ],
      "metadata": {
        "colab": {
          "base_uri": "https://localhost:8080/"
        },
        "id": "O5Sj-qG0uMeo",
        "outputId": "163582d5-8f70-4897-cb4a-e0f97e69d584"
      },
      "execution_count": 16,
      "outputs": [
        {
          "output_type": "stream",
          "name": "stdout",
          "text": [
            "Null values:\n",
            "        A      B\n",
            "0  False   True\n",
            "1   True  False\n",
            "2  False  False\n"
          ]
        }
      ]
    },
    {
      "cell_type": "code",
      "source": [
        "import pandas as pd\n",
        "\n",
        "csv_df = pd.read_csv('sample.csv')\n",
        "excel_df = pd.read_excel('sample.xlsx')\n",
        "txt_df = pd.read_csv('sample.txt', sep='\\t')\n",
        "\n",
        "# AMIT KUMAR YADAV\n"
      ],
      "metadata": {
        "id": "ff589qjyuQ4H"
      },
      "execution_count": null,
      "outputs": []
    }
  ]
}
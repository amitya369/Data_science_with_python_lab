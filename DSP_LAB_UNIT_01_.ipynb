{
  "nbformat": 4,
  "nbformat_minor": 0,
  "metadata": {
    "colab": {
      "provenance": [],
      "authorship_tag": "ABX9TyP9ycaKvC3Y7ChWjKHAPJOX",
      "include_colab_link": true
    },
    "kernelspec": {
      "name": "python3",
      "display_name": "Python 3"
    },
    "language_info": {
      "name": "python"
    }
  },
  "cells": [
    {
      "cell_type": "markdown",
      "metadata": {
        "id": "view-in-github",
        "colab_type": "text"
      },
      "source": [
        "<a href=\"https://colab.research.google.com/github/amitya369/Data_science_with_python_lab/blob/main/DSP_LAB_UNIT_01_.ipynb\" target=\"_parent\"><img src=\"https://colab.research.google.com/assets/colab-badge.svg\" alt=\"Open In Colab\"/></a>"
      ]
    },
    {
      "cell_type": "code",
      "execution_count": 1,
      "metadata": {
        "colab": {
          "base_uri": "https://localhost:8080/"
        },
        "id": "TALGA8MrdKnn",
        "outputId": "ca7105bb-7879-44e0-a0ab-28e6825c50c8"
      },
      "outputs": [
        {
          "output_type": "stream",
          "name": "stdout",
          "text": [
            "Enter a number: 6\n",
            "The factorial of 6 is 720\n"
          ]
        }
      ],
      "source": [
        "def factorial(n):\n",
        "\n",
        "  if n == 0:\n",
        "    return 1\n",
        "  else:\n",
        "    result = 1\n",
        "    for i in range(1, n + 1):\n",
        "      result *= i\n",
        "    return result\n",
        "num = int(input(\"Enter a number: \"))\n",
        "fact = factorial(num)\n",
        "print(\"The factorial of\", num, \"is\", fact)\n",
        "\n",
        "# AMIT KUMAR YADAV"
      ]
    },
    {
      "cell_type": "code",
      "source": [
        "\n",
        "class FactorialCalculator:\n",
        "    def __init__(self):\n",
        "        pass\n",
        "\n",
        "    def calculate_factorial(self, n):\n",
        "        \"\"\"\n",
        "        This function calculates the factorial of a number using object-oriented programming.\n",
        "        \"\"\"\n",
        "        if n == 0:\n",
        "            return 1\n",
        "        else:\n",
        "            result = 1\n",
        "            for i in range(1, n + 1):\n",
        "                result *= i\n",
        "            return result\n",
        "calculator = FactorialCalculator()\n",
        "num = int(input(\"Enter a number: \"))\n",
        "fact = calculator.calculate_factorial(num)\n",
        "print(\"The factorial of\", num, \"is\", fact)\n",
        "\n",
        "# Different types of literals\n",
        "my_string = \"Hello, world!\"\n",
        "my_integer = 10\n",
        "my_float = 3.14\n",
        "my_boolean = True\n",
        "\n",
        "print(my_string)\n",
        "print(my_integer)\n",
        "print(my_float)\n",
        "print(my_boolean)\n",
        "\n",
        "# AMIT KUMAR YADAV"
      ],
      "metadata": {
        "colab": {
          "base_uri": "https://localhost:8080/"
        },
        "id": "AjoHUv4Kdef9",
        "outputId": "e7b65b33-b517-46f0-fd46-844b8629282e"
      },
      "execution_count": 2,
      "outputs": [
        {
          "output_type": "stream",
          "name": "stdout",
          "text": [
            "Enter a number: 8\n",
            "The factorial of 8 is 40320\n",
            "Hello, world!\n",
            "10\n",
            "3.14\n",
            "True\n"
          ]
        }
      ]
    },
    {
      "cell_type": "code",
      "source": [
        "\n",
        "result = 5 + 2 * 3 ** 2\n",
        "\n",
        "print(\"The result of the expression 5 + 2 * 3 ** 2 is:\", result)\n",
        "\n",
        "# AMIT KUMAR YADAV"
      ],
      "metadata": {
        "colab": {
          "base_uri": "https://localhost:8080/"
        },
        "id": "EZazftutdmSG",
        "outputId": "d3ec324f-149b-49e0-9550-c3af9688ccb2"
      },
      "execution_count": 3,
      "outputs": [
        {
          "output_type": "stream",
          "name": "stdout",
          "text": [
            "The result of the expression 5 + 2 * 3 ** 2 is: 23\n"
          ]
        }
      ]
    },
    {
      "cell_type": "code",
      "source": [
        "def swap_variables(a, b):\n",
        "  \"\"\"\n",
        "  Swaps the values of two variables without using a third variable.\n",
        "  \"\"\"\n",
        "  a = a + b\n",
        "  b = a - b\n",
        "  a = a - b\n",
        "  return a, b\n",
        "x = 10\n",
        "y = 5\n",
        "print(\"Before swapping: x =\", x, \"y =\", y)\n",
        "x, y = swap_variables(x, y)\n",
        "print(\"After swapping: x =\", x, \"y =\", y)\n",
        "\n",
        "#AMIT KUMAR YADAV"
      ],
      "metadata": {
        "colab": {
          "base_uri": "https://localhost:8080/"
        },
        "id": "3ZOAD-VfdzSl",
        "outputId": "56d7b90f-3686-4eb7-aec3-9ed54d8b88c2"
      },
      "execution_count": 4,
      "outputs": [
        {
          "output_type": "stream",
          "name": "stdout",
          "text": [
            "Before swapping: x = 10 y = 5\n",
            "After swapping: x = 5 y = 10\n"
          ]
        }
      ]
    },
    {
      "cell_type": "code",
      "source": [
        "def is_prime(number):\n",
        "  \"\"\"\n",
        "  Checks if a number is prime or not.\n",
        "  \"\"\"\n",
        "  if number <= 1:\n",
        "    return False\n",
        "  for i in range(2, int(number ** 0.5) + 1):\n",
        "    if number % i == 0:\n",
        "      return False\n",
        "  return True\n",
        "# Get input from the user\n",
        "num = int(input(\"Enter a number: \"))\n",
        "# Check if the number is prime\n",
        "if is_prime(num):\n",
        "  print(num, \"is a prime number.\")\n",
        "else:\n",
        "  print(num, \"is not a prime number.\")\n",
        "\n",
        "# AMIT KUMAR YADAV"
      ],
      "metadata": {
        "colab": {
          "base_uri": "https://localhost:8080/"
        },
        "id": "4KD4iKXReDDa",
        "outputId": "3ea131dc-6008-4787-9f74-9be3ddb83d66"
      },
      "execution_count": 5,
      "outputs": [
        {
          "output_type": "stream",
          "name": "stdout",
          "text": [
            "Enter a number: 9\n",
            "9 is not a prime number.\n"
          ]
        }
      ]
    },
    {
      "cell_type": "code",
      "source": [
        "my_list = [1, 2, 3, 4, 5]\n",
        "if 3 in my_list:\n",
        "  print(\"3 is present in the list\")\n",
        "if 6 not in my_list:\n",
        "  print(\"6 is not present in the list\")\n",
        "sub_list = [2, 3]\n",
        "if sub_list in my_list:\n",
        "    print(\"Sublist is present in the list\")\n",
        "else:\n",
        "    print(\"Sublist is not present in the list\")\n",
        "\n",
        "# AMIT KUMAR YADAV"
      ],
      "metadata": {
        "colab": {
          "base_uri": "https://localhost:8080/"
        },
        "id": "NDxvZ3WDeIwL",
        "outputId": "e71700b9-319d-430b-bb4d-8c0e08355106"
      },
      "execution_count": 7,
      "outputs": [
        {
          "output_type": "stream",
          "name": "stdout",
          "text": [
            "3 is present in the list\n",
            "6 is not present in the list\n",
            "Sublist is not present in the list\n"
          ]
        }
      ]
    },
    {
      "cell_type": "code",
      "source": [
        "score = float(input(\"Enter the student's score: \"))\n",
        "\n",
        "if score >= 90:\n",
        "  grade = \"A\"\n",
        "elif score >= 80:\n",
        "  grade = \"B\"\n",
        "elif score >= 70:\n",
        "  grade = \"C\"\n",
        "elif score >= 60:\n",
        "  grade = \"D\"\n",
        "else:\n",
        "  grade = \"F\"\n",
        "print(\"The student's grade is:\", grade)\n",
        "# AMIT KUMAR YADAV"
      ],
      "metadata": {
        "colab": {
          "base_uri": "https://localhost:8080/"
        },
        "id": "1ogsltjkeykn",
        "outputId": "319f8386-7599-497f-a254-15d69f55d190"
      },
      "execution_count": 8,
      "outputs": [
        {
          "output_type": "stream",
          "name": "stdout",
          "text": [
            "Enter the student's score: 90\n",
            "The student's grade is: A\n"
          ]
        }
      ]
    },
    {
      "cell_type": "code",
      "source": [
        "def get_day_name(day_number):\n",
        "  if day_number == 1:\n",
        "    print(\"Monday\")\n",
        "  elif day_number == 2:\n",
        "    print(\"Tuesday\")\n",
        "  elif day_number == 3:\n",
        "    print(\"Wednesday\")\n",
        "  elif day_number == 4:\n",
        "    print(\"Thursday\")\n",
        "  elif day_number == 5:\n",
        "    print(\"Friday\")\n",
        "  elif day_number == 6:\n",
        "    print(\"Saturday\")\n",
        "  elif day_number == 7:\n",
        "    print(\"Sunday\")\n",
        "  else:\n",
        "    print(\"Invalid day number\")\n",
        "day_number = int(input(\"Enter the day number (1-7): \"))\n",
        "get_day_name(day_number)\n",
        "\n",
        "# AMIT KUMAR YADAV"
      ],
      "metadata": {
        "colab": {
          "base_uri": "https://localhost:8080/"
        },
        "id": "OTl4cusAe-V8",
        "outputId": "49cbd261-18dd-4227-e3a4-6bc1f0b5adcc"
      },
      "execution_count": 9,
      "outputs": [
        {
          "output_type": "stream",
          "name": "stdout",
          "text": [
            "Enter the day number (1-7): 6\n",
            "Saturday\n"
          ]
        }
      ]
    },
    {
      "cell_type": "code",
      "source": [
        "class Employee:\n",
        "    def __init__(self, emp_id, name, dept):\n",
        "        self.emp_id = emp_id\n",
        "        self.name = name\n",
        "        self.dept = dept\n",
        "\n",
        "class EmployeeManagementSystem:\n",
        "    def __init__(self):\n",
        "        self.employees = []\n",
        "\n",
        "    def add_employee(self, emp_id, name, dept):\n",
        "        employee = Employee(emp_id, name, dept)\n",
        "        self.employees.append(employee)\n",
        "        print(f\"Employee {name} added successfully.\")\n",
        "\n",
        "    def remove_employee(self, emp_id):\n",
        "        for employee in self.employees:\n",
        "            if employee.emp_id == emp_id:\n",
        "                self.employees.remove(employee)\n",
        "                print(f\"Employee with ID {emp_id} removed successfully.\")\n",
        "                return\n",
        "        print(f\"Employee with ID {emp_id} not found.\")\n",
        "\n",
        "    def display_employees(self):\n",
        "        if not self.employees:\n",
        "            print(\"No employees in the system.\")\n",
        "            return\n",
        "\n",
        "        print(\"Employee Details:\")\n",
        "        for employee in self.employees:\n",
        "            print(f\"ID: {employee.emp_id}, Name: {employee.name}, Department: {employee.dept}\")\n",
        "ems = EmployeeManagementSystem()\n",
        "\n",
        "ems.add_employee(101, \"John Doe\", \"IT\")\n",
        "ems.add_employee(102, \"Jane Smith\", \"HR\")\n",
        "ems.display_employees()\n",
        "ems.remove_employee(101)\n",
        "ems.display_employees()\n",
        "\n",
        "# AMIT KUMAR YADAV"
      ],
      "metadata": {
        "colab": {
          "base_uri": "https://localhost:8080/"
        },
        "id": "UXXf-bALfJIB",
        "outputId": "571fb40c-0d47-4f23-b104-1663a6f541a3"
      },
      "execution_count": 10,
      "outputs": [
        {
          "output_type": "stream",
          "name": "stdout",
          "text": [
            "Employee John Doe added successfully.\n",
            "Employee Jane Smith added successfully.\n",
            "Employee Details:\n",
            "ID: 101, Name: John Doe, Department: IT\n",
            "ID: 102, Name: Jane Smith, Department: HR\n",
            "Employee with ID 101 removed successfully.\n",
            "Employee Details:\n",
            "ID: 102, Name: Jane Smith, Department: HR\n"
          ]
        }
      ]
    },
    {
      "cell_type": "code",
      "source": [
        "def calculate(expression):\n",
        "  try:\n",
        "    result = eval(expression)\n",
        "    return result\n",
        "  except (SyntaxError, ZeroDivisionError):\n",
        "    return \"Invalid expression\"\n",
        "while True:\n",
        "  expression = input(\"Enter an arithmetic expression (or 'q' to quit): \")\n",
        "  if expression.lower() == 'q':\n",
        "    break\n",
        "  result = calculate(expression)\n",
        "  print(\"Result:\", result)\n",
        "\n",
        "# AMIT KUMAR YADAV"
      ],
      "metadata": {
        "colab": {
          "base_uri": "https://localhost:8080/"
        },
        "id": "dskaqKtkfUjO",
        "outputId": "2409968d-4977-41fc-d0ab-c8235b2d0e1c"
      },
      "execution_count": 11,
      "outputs": [
        {
          "name": "stdout",
          "output_type": "stream",
          "text": [
            "Enter an arithmetic expression (or 'q' to quit): 6*9+6+9\n",
            "Result: 69\n",
            "Enter an arithmetic expression (or 'q' to quit): q\n"
          ]
        }
      ]
    },
    {
      "cell_type": "code",
      "source": [
        "score = float(input(\"Enter the student's score: \"))\n",
        "if score >= 90:\n",
        "  grade = \"A\"\n",
        "elif score >= 80:\n",
        "  grade = \"B\"\n",
        "elif score >= 70:\n",
        "  grade = \"C\"\n",
        "elif score >= 60:\n",
        "  grade = \"D\"\n",
        "else:\n",
        "  grade = \"F\"\n",
        "\n",
        "# Print the grade\n",
        "print(\"The student's grade is:\", grade)\n",
        "# AMIT KUMAR YADAV"
      ],
      "metadata": {
        "colab": {
          "base_uri": "https://localhost:8080/"
        },
        "id": "dO9d9AcMfagP",
        "outputId": "3e845087-81f3-4764-dc1f-004ac353e382"
      },
      "execution_count": 12,
      "outputs": [
        {
          "output_type": "stream",
          "name": "stdout",
          "text": [
            "Enter the student's score: 90\n",
            "The student's grade is: A\n"
          ]
        }
      ]
    },
    {
      "cell_type": "code",
      "source": [
        "import random\n",
        "def guess_the_number():\n",
        "  secret_number = random.randint(1, 100)\n",
        "  attempts = 0\n",
        "\n",
        "  print(\"Welcome to the Number Guessing Game!\")\n",
        "  print(\"I'm thinking of a number between 1 and 100.\")\n",
        "\n",
        "  while True:\n",
        "    try:\n",
        "      guess = int(input(\"Take a guess: \"))\n",
        "      attempts += 1\n",
        "\n",
        "      if guess < secret_number:\n",
        "        print(\"Too low! Try again.\")\n",
        "      elif guess > secret_number:\n",
        "        print(\"Too high! Try again.\")\n",
        "      else:\n",
        "        print(f\"Congratulations! You guessed the number in {attempts} attempts.\")\n",
        "        break\n",
        "\n",
        "    except ValueError:\n",
        "      print(\"Invalid input. Please enter a number.\")\n",
        "\n",
        "\n",
        "if __name__ == \"__main__\":\n",
        "  guess_the_number()\n",
        "\n",
        "# AMIT KUMAR YADAV"
      ],
      "metadata": {
        "colab": {
          "base_uri": "https://localhost:8080/"
        },
        "id": "S3NSSRQefgKb",
        "outputId": "3664a5fa-e150-4a64-aaa0-bda952b37772"
      },
      "execution_count": 13,
      "outputs": [
        {
          "output_type": "stream",
          "name": "stdout",
          "text": [
            "Welcome to the Number Guessing Game!\n",
            "I'm thinking of a number between 1 and 100.\n",
            "Take a guess: 68\n",
            "Too low! Try again.\n",
            "Take a guess: 89\n",
            "Too high! Try again.\n",
            "Take a guess: 76\n",
            "Too low! Try again.\n",
            "Take a guess: 82\n",
            "Too high! Try again.\n",
            "Take a guess: 78\n",
            "Too low! Try again.\n",
            "Take a guess: 80\n",
            "Too high! Try again.\n",
            "Take a guess: 79\n",
            "Congratulations! You guessed the number in 7 attempts.\n"
          ]
        }
      ]
    },
    {
      "cell_type": "code",
      "source": [],
      "metadata": {
        "id": "pH95qty2iUI0"
      },
      "execution_count": null,
      "outputs": []
    }
  ]
}